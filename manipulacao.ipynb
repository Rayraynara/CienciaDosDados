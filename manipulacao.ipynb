{
 "cells": [
  {
   "cell_type": "code",
   "execution_count": 2,
   "metadata": {},
   "outputs": [],
   "source": [
    "import pandas as pd\n",
    "import numpy as np\n",
    "import matplotlib.pyplot as plt\n",
    "import seaborn as sns\n",
    "import math\n",
    "from plotnine import *"
   ]
  },
  {
   "cell_type": "code",
   "execution_count": 3,
   "metadata": {},
   "outputs": [],
   "source": [
    "# Manipulação de Dados\n",
    "### Carregando o conjunto de dados (Dataset)\n",
    "dataset = pd.read_csv('../CienciaDosDados/dados/housing.csv')\n"
   ]
  },
  {
   "cell_type": "code",
   "execution_count": 4,
   "metadata": {},
   "outputs": [],
   "source": [
    "### Mostrando as informações gerais do dataset (média, mediana, min, max, std, percentis de cada coluna)"
   ]
  },
  {
   "cell_type": "code",
   "execution_count": 8,
   "metadata": {},
   "outputs": [
    {
     "name": "stdout",
     "output_type": "stream",
     "text": [
      "Média de cada coluna:\n",
      "longitude               -119.569704\n",
      "latitude                  35.631861\n",
      "housing_median_age        28.639486\n",
      "total_rooms             2635.763081\n",
      "total_bedrooms           537.870553\n",
      "population              1425.476744\n",
      "households               499.539680\n",
      "median_income              3.870671\n",
      "median_house_value    206855.816909\n",
      "dtype: float64\n"
     ]
    }
   ],
   "source": [
    "## Média\n",
    "##Considerando que dá erro por conta da ultima coluna(não numérica) , é necessário indicar que apenas deve ser considerado as colunas numéricas\n",
    "colunas_numericas = dataset.select_dtypes(include=[np.number])\n",
    "media_colunas = colunas_numericas.mean()\n",
    "print(\"Média de cada coluna:\")\n",
    "print(media_colunas)"
   ]
  },
  {
   "cell_type": "code",
   "execution_count": null,
   "metadata": {},
   "outputs": [],
   "source": []
  }
 ],
 "metadata": {
  "kernelspec": {
   "display_name": "Python 3",
   "language": "python",
   "name": "python3"
  },
  "language_info": {
   "codemirror_mode": {
    "name": "ipython",
    "version": 3
   },
   "file_extension": ".py",
   "mimetype": "text/x-python",
   "name": "python",
   "nbconvert_exporter": "python",
   "pygments_lexer": "ipython3",
   "version": "3.11.9"
  }
 },
 "nbformat": 4,
 "nbformat_minor": 2
}
