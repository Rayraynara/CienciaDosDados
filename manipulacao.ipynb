{
 "cells": [
  {
   "cell_type": "code",
   "execution_count": 2,
   "metadata": {},
   "outputs": [],
   "source": [
    "import pandas as pd\n",
    "import numpy as np\n",
    "import matplotlib.pyplot as plt\n",
    "import seaborn as sns\n",
    "import math\n",
    "from plotnine import *"
   ]
  },
  {
   "cell_type": "code",
   "execution_count": 3,
   "metadata": {},
   "outputs": [],
   "source": [
    "# Manipulação de Dados\n",
    "### Carregando o conjunto de dados (Dataset)\n",
    "dataset = pd.read_csv('../CienciaDosDados/dados/housing.csv')\n"
   ]
  },
  {
   "cell_type": "code",
   "execution_count": 4,
   "metadata": {},
   "outputs": [],
   "source": [
    "### Mostrando as informações gerais do dataset (média, mediana, min, max, std, percentis de cada coluna)"
   ]
  },
  {
   "cell_type": "code",
   "execution_count": null,
   "metadata": {},
   "outputs": [],
   "source": [
    "## Média\n",
    "##Considerando que dá erro por conta da ultima coluna(não numérica) , é necessário indicar que apenas deve ser considerado as colunas numéricas\n",
    "colunas_numericas = dataset.select_dtypes(include=[np.number])\n",
    "media_colunas = colunas_numericas.mean()\n",
    "print(\"Média de cada coluna:\")\n",
    "print(media_colunas)"
   ]
  },
  {
   "cell_type": "code",
   "execution_count": null,
   "metadata": {},
   "outputs": [],
   "source": [
    "#Médiana\n",
    "mediana_colunas = colunas_numericas.median()\n",
    "print(\"Mediana de cada coluna:\")\n",
    "print(mediana_colunas)"
   ]
  },
  {
   "cell_type": "code",
   "execution_count": 11,
   "metadata": {},
   "outputs": [
    {
     "name": "stdout",
     "output_type": "stream",
     "text": [
      "Mínimo de cada coluna:\n",
      "longitude              -124.3500\n",
      "latitude                 32.5400\n",
      "housing_median_age        1.0000\n",
      "total_rooms               2.0000\n",
      "total_bedrooms            1.0000\n",
      "population                3.0000\n",
      "households                1.0000\n",
      "median_income             0.4999\n",
      "median_house_value    14999.0000\n",
      "dtype: float64\n"
     ]
    }
   ],
   "source": [
    "#Mínimo de cada coluna\n",
    "minimo_colunas = colunas_numericas.min()\n",
    "print(\"Mínimo de cada coluna:\")\n",
    "print(minimo_colunas)"
   ]
  },
  {
   "cell_type": "code",
   "execution_count": null,
   "metadata": {},
   "outputs": [],
   "source": [
    "#Máximo de cada coluna\n",
    "maximo_colunas =  colunas_numericas.max()\n",
    "print(\"Máximo de cada coluna:\")\n",
    "print(maximo_colunas)"
   ]
  }
 ],
 "metadata": {
  "kernelspec": {
   "display_name": "Python 3",
   "language": "python",
   "name": "python3"
  },
  "language_info": {
   "codemirror_mode": {
    "name": "ipython",
    "version": 3
   },
   "file_extension": ".py",
   "mimetype": "text/x-python",
   "name": "python",
   "nbconvert_exporter": "python",
   "pygments_lexer": "ipython3",
   "version": "3.11.9"
  }
 },
 "nbformat": 4,
 "nbformat_minor": 2
}
